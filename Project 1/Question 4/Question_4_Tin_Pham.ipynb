{
 "cells": [
  {
   "cell_type": "code",
   "execution_count": 8,
   "metadata": {},
   "outputs": [],
   "source": [
    "# Which Actors appear most frequently in high-rated movies (e.g., IMDb ratings > 8)\n",
    "\n",
    "# Import\n",
    "import requests\n",
    "import json\n",
    "import matplotlib as mp\n",
    "import pandas as pd\n",
    "from pprint import pprint\n",
    "from config import tmdb_api_key\n",
    "from config import omdb_api_key\n",
    "\n",
    "# TMDB Setup \n",
    "\n",
    "# t_api_key = tmdb_api_key\n",
    "# t_base_url = \"https://api.themoviedb.org/3/discover/movie\"\n"
   ]
  },
  {
   "cell_type": "code",
   "execution_count": 21,
   "metadata": {},
   "outputs": [],
   "source": [
    "# Import Credits and setting id as index\n",
    "\n",
    "credits_df = pd.read_csv(\"Resources/credits.csv\")\n",
    "credits_df.set_index(\"id\", inplace=True)\n",
    "\n",
    "# Import Movies Metadata and setting id as index\n",
    "\n",
    "movies_df = pd.read_csv(\"Resources/movies_metadata.csv\")\n",
    "movies_df.set_index(\"id\", inplace=True)"
   ]
  },
  {
   "cell_type": "code",
   "execution_count": null,
   "metadata": {},
   "outputs": [],
   "source": [
    "# Dropping unneeded columns for movie dataframe\n",
    "clean_movies_df = movies_df.drop(columns=[\"adult\", \n",
    "                                          \"belongs_to_collection\", \n",
    "                                          \"budget\", \n",
    "                                          \"genres\", \n",
    "                                          \"homepage\", \n",
    "                                          \"original_language\", \n",
    "                                          \"overview\",\n",
    "                                          \"popularity\",\n",
    "                                          \"poster_path\",\n",
    "                                          \"production_companies\",\n",
    "                                          \"production_countries\",\n",
    "                                          \"revenue\", \n",
    "                                          \"runtime\", \n",
    "                                          \"spoken_languages\", \n",
    "                                          \"status\", \n",
    "                                          \"tagline\", \n",
    "                                          \"video\"])\n",
    "clean_movies_df"
   ]
  },
  {
   "cell_type": "code",
   "execution_count": null,
   "metadata": {},
   "outputs": [],
   "source": [
    "clean_credits_df = credits_df.drop(columns = [\"crew\"])\n",
    "clean_credits_df.head()"
   ]
  },
  {
   "cell_type": "code",
   "execution_count": null,
   "metadata": {},
   "outputs": [],
   "source": [
    "for actor in clean_credits_df[0:4]:\n",
    "    print(actor)"
   ]
  },
  {
   "cell_type": "code",
   "execution_count": null,
   "metadata": {},
   "outputs": [],
   "source": [
    "for i, actor in list(clean_credits_df.iterrows())[0:5]:\n",
    "    print(actor)"
   ]
  },
  {
   "cell_type": "code",
   "execution_count": null,
   "metadata": {},
   "outputs": [],
   "source": [
    "print(dir(clean_credits_df))"
   ]
  },
  {
   "cell_type": "code",
   "execution_count": null,
   "metadata": {},
   "outputs": [],
   "source": [
    "pd.set_option('display.max_colwidth', None)\n",
    "print(credits_df.iloc[[862]])"
   ]
  },
  {
   "cell_type": "code",
   "execution_count": null,
   "metadata": {},
   "outputs": [],
   "source": [
    "actors = {}\n",
    "for _, movie in clean_credits_df.iterrows():\n",
    "  for actor in movie['cast'][0:5]:\n",
    "    name = actor.get('name')\n",
    "    if name not in actors.keys():\n",
    "      actors[name] = 0\n",
    "    actors[name] = actors[name] + 1\n",
    "print(actors)"
   ]
  }
 ],
 "metadata": {
  "kernelspec": {
   "display_name": "base",
   "language": "python",
   "name": "python3"
  },
  "language_info": {
   "codemirror_mode": {
    "name": "ipython",
    "version": 3
   },
   "file_extension": ".py",
   "mimetype": "text/x-python",
   "name": "python",
   "nbconvert_exporter": "python",
   "pygments_lexer": "ipython3",
   "version": "3.12.3"
  }
 },
 "nbformat": 4,
 "nbformat_minor": 2
}
