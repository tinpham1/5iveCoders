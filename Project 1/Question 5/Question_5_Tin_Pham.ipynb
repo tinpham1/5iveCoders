{
 "cells": [
  {
   "cell_type": "code",
   "execution_count": 1,
   "metadata": {},
   "outputs": [
    {
     "name": "stderr",
     "output_type": "stream",
     "text": [
      "C:\\Users\\flash\\AppData\\Local\\Temp\\ipykernel_3992\\3460832683.py:18: DtypeWarning: Columns (10) have mixed types. Specify dtype option on import or set low_memory=False.\n",
      "  movies_df = pd.read_csv(\"../Resources/movies_metadata.csv\")\n"
     ]
    }
   ],
   "source": [
    "# How does budget correlate with IMDb rating? Does more budget mean a better rating?\n",
    "\n",
    "# Import Libraries\n",
    "import requests\n",
    "import json\n",
    "import matplotlib.pyplot as plt\n",
    "import pandas as pd\n",
    "import ast\n",
    "import numpy as np\n",
    "from pprint import pprint\n",
    "# from config import omdb_api_key\n",
    "\n",
    "# Import The Movie Dataset CSVs into Dataframes\n",
    "credits_df = pd.read_csv(\"../Resources/credits.csv\")\n",
    "keywords_df = pd.read_csv(\"../Resources/keywords.csv\")\n",
    "links_small_df = pd.read_csv(\"../Resources/links_small.csv\")\n",
    "links_df = pd.read_csv(\"../Resources/links.csv\")\n",
    "movies_df = pd.read_csv(\"../Resources/movies_metadata.csv\")\n",
    "ratings_small_df = pd.read_csv(\"../Resources/ratings_small.csv\")\n",
    "ratings_df = pd.read_csv(\"../Resources/ratings.csv\")"
   ]
  },
  {
   "cell_type": "code",
   "execution_count": 2,
   "metadata": {},
   "outputs": [],
   "source": [
    "# Setting OMDB query param for looking up IMDb IDs\n",
    "omdb_api_key = \"\"\n",
    "url = \"http://www.omdbapi.com/?i=\"\n",
    "api_key = \"&apikey=\" + omdb_api_key"
   ]
  },
  {
   "cell_type": "code",
   "execution_count": 3,
   "metadata": {},
   "outputs": [],
   "source": [
    "# Dropping unneeded columns for movie dataframe\n",
    "q5_clean_movies_df = movies_df.drop(columns = [\"adult\", \n",
    "                                          \"belongs_to_collection\", \n",
    "                                          \"genres\", \n",
    "                                          \"homepage\", \n",
    "                                          \"original_language\",\n",
    "                                          \"original_title\", \n",
    "                                          \"overview\",\n",
    "                                          \"popularity\",\n",
    "                                          \"poster_path\",\n",
    "                                          \"production_companies\",\n",
    "                                          \"production_countries\",\n",
    "                                          \"release_date\",\n",
    "                                          \"revenue\", \n",
    "                                          \"runtime\", \n",
    "                                          \"spoken_languages\", \n",
    "                                          \"status\", \n",
    "                                          \"tagline\", \n",
    "                                          \"video\"])\n",
    "\n"
   ]
  },
  {
   "cell_type": "code",
   "execution_count": 4,
   "metadata": {},
   "outputs": [
    {
     "data": {
      "text/html": [
       "<div>\n",
       "<style scoped>\n",
       "    .dataframe tbody tr th:only-of-type {\n",
       "        vertical-align: middle;\n",
       "    }\n",
       "\n",
       "    .dataframe tbody tr th {\n",
       "        vertical-align: top;\n",
       "    }\n",
       "\n",
       "    .dataframe thead th {\n",
       "        text-align: right;\n",
       "    }\n",
       "</style>\n",
       "<table border=\"1\" class=\"dataframe\">\n",
       "  <thead>\n",
       "    <tr style=\"text-align: right;\">\n",
       "      <th></th>\n",
       "      <th>budget</th>\n",
       "      <th>id</th>\n",
       "      <th>imdb_id</th>\n",
       "      <th>title</th>\n",
       "      <th>vote_average</th>\n",
       "      <th>vote_count</th>\n",
       "    </tr>\n",
       "  </thead>\n",
       "  <tbody>\n",
       "    <tr>\n",
       "      <th>0</th>\n",
       "      <td>30000000</td>\n",
       "      <td>862</td>\n",
       "      <td>tt0114709</td>\n",
       "      <td>Toy Story</td>\n",
       "      <td>7.7</td>\n",
       "      <td>5415.0</td>\n",
       "    </tr>\n",
       "    <tr>\n",
       "      <th>1</th>\n",
       "      <td>65000000</td>\n",
       "      <td>8844</td>\n",
       "      <td>tt0113497</td>\n",
       "      <td>Jumanji</td>\n",
       "      <td>6.9</td>\n",
       "      <td>2413.0</td>\n",
       "    </tr>\n",
       "    <tr>\n",
       "      <th>5</th>\n",
       "      <td>60000000</td>\n",
       "      <td>949</td>\n",
       "      <td>tt0113277</td>\n",
       "      <td>Heat</td>\n",
       "      <td>7.7</td>\n",
       "      <td>1886.0</td>\n",
       "    </tr>\n",
       "    <tr>\n",
       "      <th>9</th>\n",
       "      <td>58000000</td>\n",
       "      <td>710</td>\n",
       "      <td>tt0113189</td>\n",
       "      <td>GoldenEye</td>\n",
       "      <td>6.6</td>\n",
       "      <td>1194.0</td>\n",
       "    </tr>\n",
       "    <tr>\n",
       "      <th>15</th>\n",
       "      <td>52000000</td>\n",
       "      <td>524</td>\n",
       "      <td>tt0112641</td>\n",
       "      <td>Casino</td>\n",
       "      <td>7.8</td>\n",
       "      <td>1343.0</td>\n",
       "    </tr>\n",
       "    <tr>\n",
       "      <th>...</th>\n",
       "      <td>...</td>\n",
       "      <td>...</td>\n",
       "      <td>...</td>\n",
       "      <td>...</td>\n",
       "      <td>...</td>\n",
       "      <td>...</td>\n",
       "    </tr>\n",
       "    <tr>\n",
       "      <th>43644</th>\n",
       "      <td>34000000</td>\n",
       "      <td>339403</td>\n",
       "      <td>tt3890160</td>\n",
       "      <td>Baby Driver</td>\n",
       "      <td>7.2</td>\n",
       "      <td>2083.0</td>\n",
       "    </tr>\n",
       "    <tr>\n",
       "      <th>44009</th>\n",
       "      <td>80000000</td>\n",
       "      <td>324852</td>\n",
       "      <td>tt3469046</td>\n",
       "      <td>Despicable Me 3</td>\n",
       "      <td>6.2</td>\n",
       "      <td>2002.0</td>\n",
       "    </tr>\n",
       "    <tr>\n",
       "      <th>44274</th>\n",
       "      <td>152000000</td>\n",
       "      <td>281338</td>\n",
       "      <td>tt3450958</td>\n",
       "      <td>War for the Planet of the Apes</td>\n",
       "      <td>6.7</td>\n",
       "      <td>1675.0</td>\n",
       "    </tr>\n",
       "    <tr>\n",
       "      <th>44678</th>\n",
       "      <td>100000000</td>\n",
       "      <td>374720</td>\n",
       "      <td>tt5013056</td>\n",
       "      <td>Dunkirk</td>\n",
       "      <td>7.5</td>\n",
       "      <td>2712.0</td>\n",
       "    </tr>\n",
       "    <tr>\n",
       "      <th>44842</th>\n",
       "      <td>260000000</td>\n",
       "      <td>335988</td>\n",
       "      <td>tt3371366</td>\n",
       "      <td>Transformers: The Last Knight</td>\n",
       "      <td>6.2</td>\n",
       "      <td>1440.0</td>\n",
       "    </tr>\n",
       "  </tbody>\n",
       "</table>\n",
       "<p>1120 rows × 6 columns</p>\n",
       "</div>"
      ],
      "text/plain": [
       "          budget      id    imdb_id                           title  \\\n",
       "0       30000000     862  tt0114709                       Toy Story   \n",
       "1       65000000    8844  tt0113497                         Jumanji   \n",
       "5       60000000     949  tt0113277                            Heat   \n",
       "9       58000000     710  tt0113189                       GoldenEye   \n",
       "15      52000000     524  tt0112641                          Casino   \n",
       "...          ...     ...        ...                             ...   \n",
       "43644   34000000  339403  tt3890160                     Baby Driver   \n",
       "44009   80000000  324852  tt3469046                 Despicable Me 3   \n",
       "44274  152000000  281338  tt3450958  War for the Planet of the Apes   \n",
       "44678  100000000  374720  tt5013056                         Dunkirk   \n",
       "44842  260000000  335988  tt3371366   Transformers: The Last Knight   \n",
       "\n",
       "       vote_average  vote_count  \n",
       "0               7.7      5415.0  \n",
       "1               6.9      2413.0  \n",
       "5               7.7      1886.0  \n",
       "9               6.6      1194.0  \n",
       "15              7.8      1343.0  \n",
       "...             ...         ...  \n",
       "43644           7.2      2083.0  \n",
       "44009           6.2      2002.0  \n",
       "44274           6.7      1675.0  \n",
       "44678           7.5      2712.0  \n",
       "44842           6.2      1440.0  \n",
       "\n",
       "[1120 rows x 6 columns]"
      ]
     },
     "execution_count": 4,
     "metadata": {},
     "output_type": "execute_result"
    }
   ],
   "source": [
    "# Filtering with movies with 1000+ votes\n",
    "q5_filtered_movies_df = q5_clean_movies_df.loc[q5_clean_movies_df['vote_count'] > 1000]\n",
    "\n",
    "# Changing Data type and formatting for budget\n",
    "change_types = {'budget': int}\n",
    "q5_filtered_movies_df = q5_filtered_movies_df.astype(change_types)\n",
    "q5_filtered_movies_df['budget'] = pd.to_numeric(q5_filtered_movies_df['budget'], errors='coerce')\n",
    "q5_filtered_movies_df"
   ]
  },
  {
   "cell_type": "code",
   "execution_count": 5,
   "metadata": {},
   "outputs": [],
   "source": [
    "# Sorting budget column\n",
    "q5_filtered_movies_df = q5_filtered_movies_df.sort_values(by='budget', ascending=False)\n",
    "\n",
    "# Taking the top 100 movies with the most budget\n",
    "q5_movies_top100_df = q5_filtered_movies_df.head(100)\n",
    "pd.set_option('display.max_rows', 100)"
   ]
  },
  {
   "cell_type": "code",
   "execution_count": 6,
   "metadata": {},
   "outputs": [],
   "source": [
    "# Sorting budget column\n",
    "q5_filtered_movies_df = q5_filtered_movies_df.sort_values(by='budget', ascending=True)\n",
    "\n",
    "# Filtering with movies with 0 budget\n",
    "q5_filtered_movies_df = q5_filtered_movies_df.loc[q5_filtered_movies_df['budget'] > 0]\n",
    "\n",
    "# Taking the top 100 movies with the most budget\n",
    "q5_movies_bottom100_df = q5_filtered_movies_df.head(100)\n",
    "pd.set_option('display.max_rows', 100)\n"
   ]
  },
  {
   "cell_type": "code",
   "execution_count": 7,
   "metadata": {},
   "outputs": [
    {
     "name": "stdout",
     "output_type": "stream",
     "text": [
      "34\n"
     ]
    }
   ],
   "source": [
    "# Counting number of 7+, 6.99 - 5, and 4.99 - 0 for Top 100 movies with most budget\n",
    "\n",
    "# 7+\n",
    "topscores_7plus_df = q5_movies_top100_df[(q5_movies_top100_df['vote_average'] >= 7)]\n",
    "topscores_7plus_count = len(topscores_7plus_df)\n",
    "print(topscores_7plus_count)\n",
    "\n"
   ]
  },
  {
   "cell_type": "code",
   "execution_count": 8,
   "metadata": {},
   "outputs": [
    {
     "name": "stdout",
     "output_type": "stream",
     "text": [
      "65\n"
     ]
    }
   ],
   "source": [
    "# 6.99 - 5\n",
    "topscores_6thru5_df = q5_movies_top100_df[(q5_movies_top100_df['vote_average'] >= 5) & (q5_movies_top100_df['vote_average'] <= 6.99)]\n",
    "topscores_6thru5_count = len(topscores_6thru5_df)\n",
    "print(topscores_6thru5_count)\n"
   ]
  },
  {
   "cell_type": "code",
   "execution_count": 9,
   "metadata": {},
   "outputs": [
    {
     "name": "stdout",
     "output_type": "stream",
     "text": [
      "1\n"
     ]
    }
   ],
   "source": [
    "# 4.99 - 0\n",
    "topscores_4andless_df = q5_movies_top100_df[(q5_movies_top100_df['vote_average'] <= 4.99)]\n",
    "topscores_4andless_count = len(topscores_4andless_df)\n",
    "print(topscores_4andless_count)"
   ]
  },
  {
   "cell_type": "code",
   "execution_count": 10,
   "metadata": {},
   "outputs": [
    {
     "data": {
      "image/png": "[encoded data removed]",
      "text/plain": [
       "<Figure size 640x480 with 1 Axes>"
      ]
     },
     "metadata": {},
     "output_type": "display_data"
    }
   ],
   "source": [
    "# Pie Chart to showcase how movies appear based on rating\n",
    "\n",
    "y = np.array([topscores_7plus_count, topscores_6thru5_count, topscores_4andless_count])\n",
    "labels = ['IMDb 7+', 'IMDb 6.99 - 5', 'IMDb 4 and less']\n",
    "\n",
    "plt.pie(y, labels=labels, startangle=90)\n",
    "plt.title('IMDB Ratings Distribution for Top 100 Budgeted Films')\n",
    "plt.legend(loc='lower left')\n",
    "plt.show()"
   ]
  },
  {
   "cell_type": "code",
   "execution_count": 11,
   "metadata": {},
   "outputs": [],
   "source": [
    "# Implementing IMDb ID from Dataframe into OMDb API call\n",
    "imdb_id = topscores_4andless_df.loc[topscores_4andless_df['title'] == 'Independence Day: Resurgence', 'imdb_id'].values[0]\n",
    "response = requests.get(url + imdb_id + api_key)\n",
    "\n",
    "# Converting the response to JSON, and printing the result.\n",
    "data = response.json()"
   ]
  },
  {
   "cell_type": "code",
   "execution_count": 12,
   "metadata": {},
   "outputs": [
    {
     "name": "stdout",
     "output_type": "stream",
     "text": [
      "The movie Independence Day: Resurgence had a budget of $165,000,000. Their Box Office was $103,144,286 with an IMDb rating of 4.9.\n",
      "\n"
     ]
    }
   ],
   "source": [
    "# Print information about worst rated movie with the most budget\n",
    "\n",
    "movie_title = data['Title']\n",
    "movie_budget = topscores_4andless_df['budget'].iloc[0]\n",
    "movie_boxoffice = data['BoxOffice']\n",
    "imdb_rating = topscores_4andless_df['vote_average'].iloc[0]\n",
    "\n",
    "print(f'The movie {movie_title} had a budget of ${movie_budget:,}. Their Box Office was {movie_boxoffice} with an IMDb rating of {imdb_rating}.')\n",
    "print()"
   ]
  },
  {
   "cell_type": "code",
   "execution_count": 13,
   "metadata": {},
   "outputs": [
    {
     "name": "stdout",
     "output_type": "stream",
     "text": [
      "67\n"
     ]
    }
   ],
   "source": [
    "# Counting number of 7+, 6.99 - 5, and 4.99 - 0 for Top 100 movies with the least budget\n",
    "\n",
    "# 7+\n",
    "bottomscores_7plus_df = q5_movies_bottom100_df[(q5_movies_bottom100_df['vote_average'] >= 7)]\n",
    "bottomscores_7plus_count = len(bottomscores_7plus_df)\n",
    "print(bottomscores_7plus_count )"
   ]
  },
  {
   "cell_type": "code",
   "execution_count": 14,
   "metadata": {},
   "outputs": [
    {
     "name": "stdout",
     "output_type": "stream",
     "text": [
      "31\n"
     ]
    }
   ],
   "source": [
    "# 6.99 - 5\n",
    "bottomscores_6thru5_df = q5_movies_bottom100_df[(q5_movies_bottom100_df['vote_average'] >= 5) & (q5_movies_bottom100_df['vote_average'] <= 6.99)]\n",
    "bottomscores_6thru5_count = len(bottomscores_6thru5_df)\n",
    "print(bottomscores_6thru5_count)"
   ]
  },
  {
   "cell_type": "code",
   "execution_count": 15,
   "metadata": {},
   "outputs": [
    {
     "name": "stdout",
     "output_type": "stream",
     "text": [
      "2\n"
     ]
    }
   ],
   "source": [
    "# 4.99 - 0\n",
    "bottomscores_4andless_df = q5_movies_bottom100_df[(q5_movies_bottom100_df['vote_average'] <= 4.99)]\n",
    "bottomscores_4andless_count = len(bottomscores_4andless_df)\n",
    "print(bottomscores_4andless_count)"
   ]
  },
  {
   "cell_type": "code",
   "execution_count": 16,
   "metadata": {},
   "outputs": [
    {
     "data": {
      "image/png": "[encoded data removed]",
      "text/plain": [
       "<Figure size 640x480 with 1 Axes>"
      ]
     },
     "metadata": {},
     "output_type": "display_data"
    }
   ],
   "source": [
    "# Pie Chart to showcase how movies appear based on rating (Least Budget)\n",
    "\n",
    "y = np.array([bottomscores_7plus_count, bottomscores_6thru5_count, bottomscores_4andless_count])\n",
    "labels = ['IMDb 7+', 'IMDb 6.99 - 5', 'IMDb 4 and less']\n",
    "\n",
    "plt.pie(y, labels=labels, startangle=90)\n",
    "plt.title('IMDb Ratings Distribution for Top 100 Least Budgeted Films')\n",
    "plt.legend(loc='lower left')\n",
    "plt.show()"
   ]
  },
  {
   "cell_type": "code",
   "execution_count": 17,
   "metadata": {},
   "outputs": [
    {
     "data": {
      "text/html": [
       "<div>\n",
       "<style scoped>\n",
       "    .dataframe tbody tr th:only-of-type {\n",
       "        vertical-align: middle;\n",
       "    }\n",
       "\n",
       "    .dataframe tbody tr th {\n",
       "        vertical-align: top;\n",
       "    }\n",
       "\n",
       "    .dataframe thead th {\n",
       "        text-align: right;\n",
       "    }\n",
       "</style>\n",
       "<table border=\"1\" class=\"dataframe\">\n",
       "  <thead>\n",
       "    <tr style=\"text-align: right;\">\n",
       "      <th></th>\n",
       "      <th>budget</th>\n",
       "      <th>id</th>\n",
       "      <th>imdb_id</th>\n",
       "      <th>title</th>\n",
       "      <th>vote_average</th>\n",
       "      <th>vote_count</th>\n",
       "    </tr>\n",
       "  </thead>\n",
       "  <tbody>\n",
       "    <tr>\n",
       "      <th>1873</th>\n",
       "      <td>300000</td>\n",
       "      <td>948</td>\n",
       "      <td>tt0077651</td>\n",
       "      <td>Halloween</td>\n",
       "      <td>7.4</td>\n",
       "      <td>1066.0</td>\n",
       "    </tr>\n",
       "    <tr>\n",
       "      <th>1161</th>\n",
       "      <td>350000</td>\n",
       "      <td>389</td>\n",
       "      <td>tt0050083</td>\n",
       "      <td>12 Angry Men</td>\n",
       "      <td>8.2</td>\n",
       "      <td>2130.0</td>\n",
       "    </tr>\n",
       "    <tr>\n",
       "      <th>1100</th>\n",
       "      <td>400000</td>\n",
       "      <td>762</td>\n",
       "      <td>tt0071853</td>\n",
       "      <td>Monty Python and the Holy Grail</td>\n",
       "      <td>7.8</td>\n",
       "      <td>1742.0</td>\n",
       "    </tr>\n",
       "    <tr>\n",
       "      <th>1176</th>\n",
       "      <td>806948</td>\n",
       "      <td>539</td>\n",
       "      <td>tt0054215</td>\n",
       "      <td>Psycho</td>\n",
       "      <td>8.3</td>\n",
       "      <td>2405.0</td>\n",
       "    </tr>\n",
       "    <tr>\n",
       "      <th>896</th>\n",
       "      <td>839727</td>\n",
       "      <td>15</td>\n",
       "      <td>tt0033467</td>\n",
       "      <td>Citizen Kane</td>\n",
       "      <td>8.0</td>\n",
       "      <td>1244.0</td>\n",
       "    </tr>\n",
       "  </tbody>\n",
       "</table>\n",
       "</div>"
      ],
      "text/plain": [
       "      budget   id    imdb_id                            title  vote_average  \\\n",
       "1873  300000  948  tt0077651                        Halloween           7.4   \n",
       "1161  350000  389  tt0050083                     12 Angry Men           8.2   \n",
       "1100  400000  762  tt0071853  Monty Python and the Holy Grail           7.8   \n",
       "1176  806948  539  tt0054215                           Psycho           8.3   \n",
       "896   839727   15  tt0033467                     Citizen Kane           8.0   \n",
       "\n",
       "      vote_count  \n",
       "1873      1066.0  \n",
       "1161      2130.0  \n",
       "1100      1742.0  \n",
       "1176      2405.0  \n",
       "896       1244.0  "
      ]
     },
     "execution_count": 17,
     "metadata": {},
     "output_type": "execute_result"
    }
   ],
   "source": [
    "# bottomscores_7plus_df = bottomscores_7plus_df.sort_values(by='vote_average', ascending=False)\n",
    "bottomscores_7plus_df = bottomscores_7plus_df.sort_values(by='budget', ascending=True)\n",
    "bottomscores_7plus_df.head(5)"
   ]
  },
  {
   "cell_type": "code",
   "execution_count": 19,
   "metadata": {},
   "outputs": [],
   "source": [
    "# Implementing IMDb ID from Dataframe into OMDb API call for Paranormal Activity\n",
    "imdb_id = bottomscores_6thru5_df.loc[bottomscores_6thru5_df['title'] == 'Paranormal Activity', 'imdb_id'].values[0]\n",
    "response = requests.get(url + imdb_id + api_key)\n",
    "\n",
    "# Converting the response to JSON, and printing the result.\n",
    "data = response.json()"
   ]
  },
  {
   "cell_type": "code",
   "execution_count": 20,
   "metadata": {},
   "outputs": [
    {
     "name": "stdout",
     "output_type": "stream",
     "text": [
      "The movie Paranormal Activity had a budget of $15,000. Their Box Office was $107,918,810 with an IMDb rating of 5.9.\n",
      "\n"
     ]
    }
   ],
   "source": [
    "# Print information about a movie with the least budget\n",
    "\n",
    "movie_title = data['Title']\n",
    "movie_budget = bottomscores_6thru5_df['budget'].iloc[0]\n",
    "movie_boxoffice = data['BoxOffice']\n",
    "imdb_rating = bottomscores_6thru5_df['vote_average'].iloc[0]\n",
    "\n",
    "print(f'The movie {movie_title} had a budget of ${movie_budget:,}. Their Box Office was {movie_boxoffice} with an IMDb rating of {imdb_rating}.')\n",
    "print()"
   ]
  }
 ],
 "metadata": {
  "kernelspec": {
   "display_name": "base",
   "language": "python",
   "name": "python3"
  },
  "language_info": {
   "codemirror_mode": {
    "name": "ipython",
    "version": 3
   },
   "file_extension": ".py",
   "mimetype": "text/x-python",
   "name": "python",
   "nbconvert_exporter": "python",
   "pygments_lexer": "ipython3",
   "version": "3.12.3"
  }
 },
 "nbformat": 4,
 "nbformat_minor": 2
}
