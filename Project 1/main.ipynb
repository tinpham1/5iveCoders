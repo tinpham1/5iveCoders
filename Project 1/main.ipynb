{
 "cells": [
  {
   "cell_type": "code",
   "execution_count": 3,
   "metadata": {},
   "outputs": [
    {
     "name": "stderr",
     "output_type": "stream",
     "text": [
      "C:\\Users\\flash\\AppData\\Local\\Temp\\ipykernel_35648\\1349938314.py:14: DtypeWarning: Columns (10) have mixed types. Specify dtype option on import or set low_memory=False.\n",
      "  movies_df = pd.read_csv(\"Resources/movies_metadata.csv\")\n"
     ]
    }
   ],
   "source": [
    "# Import Libraries\n",
    "import requests\n",
    "import json\n",
    "import matplotlib as mp\n",
    "import pandas as pd\n",
    "import ast\n",
    "from pprint import pprint\n",
    "\n",
    "# Import The Movie Dataset CSVs into Dataframes\n",
    "credits_df = pd.read_csv(\"Resources/credits.csv\")\n",
    "keywords_df = pd.read_csv(\"Resources/keywords.csv\")\n",
    "links_small_df = pd.read_csv(\"Resources/links_small.csv\")\n",
    "links_df = pd.read_csv(\"Resources/links.csv\")\n",
    "movies_df = pd.read_csv(\"Resources/movies_metadata.csv\")\n",
    "ratings_small_df = pd.read_csv(\"Resources/ratings_small.csv\")\n",
    "ratings_df = pd.read_csv(\"Resources/ratings.csv\")"
   ]
  }
 ],
 "metadata": {
  "kernelspec": {
   "display_name": "base",
   "language": "python",
   "name": "python3"
  },
  "language_info": {
   "codemirror_mode": {
    "name": "ipython",
    "version": 3
   },
   "file_extension": ".py",
   "mimetype": "text/x-python",
   "name": "python",
   "nbconvert_exporter": "python",
   "pygments_lexer": "ipython3",
   "version": "3.12.3"
  }
 },
 "nbformat": 4,
 "nbformat_minor": 2
}
